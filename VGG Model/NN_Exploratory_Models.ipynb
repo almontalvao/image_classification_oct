{
 "cells": [
  {
   "cell_type": "markdown",
   "metadata": {
    "pycharm": {
     "name": "#%% md\n"
    }
   },
   "source": [
    "# Retinal OCT using VGG19"
   ]
  },
  {
   "cell_type": "markdown",
   "metadata": {
    "pycharm": {
     "name": "#%% md\n"
    }
   },
   "source": [
    "### Import libraries"
   ]
  },
  {
   "cell_type": "code",
   "execution_count": 1,
   "metadata": {
    "pycharm": {
     "name": "#%%\n"
    }
   },
   "outputs": [],
   "source": [
    "import os\n",
    "import random\n",
    "\n",
    "import numpy as np\n",
    "import matplotlib.pyplot as plt\n",
    "import seaborn as sns\n",
    "import sklearn.metrics\n",
    "\n",
    "import tensorflow as tf\n",
    "import tensorflow_addons as tfa\n",
    "from keras.preprocessing.image import ImageDataGenerator, load_img\n",
    "from scipy.io._test_fortran import __test_fortran_error\n",
    "from tensorflow.python.ops.gen_dataset_ops import model_dataset"
   ]
  },
  {
   "cell_type": "code",
   "execution_count": 2,
   "metadata": {
    "pycharm": {
     "name": "#%%\n"
    }
   },
   "outputs": [],
   "source": [
    "base_dir = os.path.join('data/OCT2017 /')"
   ]
  },
  {
   "cell_type": "code",
   "execution_count": 3,
   "metadata": {
    "pycharm": {
     "name": "#%%\n"
    }
   },
   "outputs": [],
   "source": [
    "train_dir = os.path.join(base_dir + \"train/\")"
   ]
  },
  {
   "cell_type": "code",
   "execution_count": 4,
   "metadata": {
    "pycharm": {
     "name": "#%%\n"
    }
   },
   "outputs": [],
   "source": [
    "test_dir = os.path.join(base_dir + \"test/\")"
   ]
  },
  {
   "cell_type": "code",
   "execution_count": 5,
   "metadata": {
    "pycharm": {
     "name": "#%%\n"
    }
   },
   "outputs": [],
   "source": [
    "validation_dir = os.path.join(base_dir + \"val/\")"
   ]
  },
  {
   "cell_type": "code",
   "execution_count": 6,
   "metadata": {
    "pycharm": {
     "name": "#%%\n"
    }
   },
   "outputs": [
    {
     "name": "stderr",
     "output_type": "stream",
     "text": [
      "2022-05-07 11:47:52.406569: I tensorflow/core/common_runtime/pluggable_device/pluggable_device_factory.cc:305] Could not identify NUMA node of platform GPU ID 0, defaulting to 0. Your kernel may not have been built with NUMA support.\n",
      "2022-05-07 11:47:52.406826: I tensorflow/core/common_runtime/pluggable_device/pluggable_device_factory.cc:271] Created TensorFlow device (/job:localhost/replica:0/task:0/device:GPU:0 with 0 MB memory) -> physical PluggableDevice (device: 0, name: METAL, pci bus id: <undefined>)\n"
     ]
    },
    {
     "name": "stdout",
     "output_type": "stream",
     "text": [
      "Metal device set to: Apple M1 Pro\n"
     ]
    }
   ],
   "source": [
    "vgg19 = tf.keras.applications.VGG19(\n",
    "    include_top = False,\n",
    "    weights = 'imagenet',\n",
    "    input_tensor = None,\n",
    "    input_shape = (150,150,3),\n",
    "    pooling = None\n",
    ")"
   ]
  },
  {
   "cell_type": "code",
   "execution_count": 7,
   "metadata": {
    "pycharm": {
     "name": "#%%\n"
    }
   },
   "outputs": [],
   "source": [
    "vgg19.trainable = False"
   ]
  },
  {
   "cell_type": "code",
   "execution_count": 8,
   "metadata": {
    "pycharm": {
     "name": "#%%\n"
    }
   },
   "outputs": [],
   "source": [
    "model_vgg = tf.keras.models.Sequential([\n",
    "\n",
    "    vgg19,\n",
    "    tf.keras.layers.Conv2D(128, kernel_size = (3, 3), padding = 'same'),\n",
    "    tf.keras.layers.PReLU(alpha_initializer='zeros'),# modifying final layers of VGG-19\n",
    "    tf.keras.layers.Conv2D(64, kernel_size = (3, 3), padding = 'same'),\n",
    "    tf.keras.layers.PReLU(alpha_initializer='zeros'),\n",
    "    tf.keras.layers.Flatten(),\n",
    "    tf.keras.layers.Dense(100),\n",
    "    tf.keras.layers.PReLU(alpha_initializer='zeros'),\n",
    "    tf.keras.layers.Dense(4, activation = 'softmax')\n",
    "])"
   ]
  },
  {
   "cell_type": "code",
   "execution_count": 9,
   "metadata": {
    "pycharm": {
     "name": "#%%\n"
    }
   },
   "outputs": [],
   "source": [
    "metrics = ['accuracy',\n",
    "                tfa.metrics.F1Score(num_classes = 4),\n",
    "                tf.keras.metrics.Precision(),\n",
    "                tf.keras.metrics.Recall()]"
   ]
  },
  {
   "cell_type": "code",
   "execution_count": 10,
   "metadata": {
    "pycharm": {
     "name": "#%%\n"
    }
   },
   "outputs": [
    {
     "name": "stdout",
     "output_type": "stream",
     "text": [
      "Model: \"sequential\"\n",
      "_________________________________________________________________\n",
      " Layer (type)                Output Shape              Param #   \n",
      "=================================================================\n",
      " vgg19 (Functional)          (None, 4, 4, 512)         20024384  \n",
      "                                                                 \n",
      " conv2d (Conv2D)             (None, 4, 4, 128)         589952    \n",
      "                                                                 \n",
      " p_re_lu (PReLU)             (None, 4, 4, 128)         2048      \n",
      "                                                                 \n",
      " conv2d_1 (Conv2D)           (None, 4, 4, 64)          73792     \n",
      "                                                                 \n",
      " p_re_lu_1 (PReLU)           (None, 4, 4, 64)          1024      \n",
      "                                                                 \n",
      " flatten (Flatten)           (None, 1024)              0         \n",
      "                                                                 \n",
      " dense (Dense)               (None, 100)               102500    \n",
      "                                                                 \n",
      " p_re_lu_2 (PReLU)           (None, 100)               100       \n",
      "                                                                 \n",
      " dense_1 (Dense)             (None, 4)                 404       \n",
      "                                                                 \n",
      "=================================================================\n",
      "Total params: 20,794,204\n",
      "Trainable params: 769,820\n",
      "Non-trainable params: 20,024,384\n",
      "_________________________________________________________________\n"
     ]
    }
   ],
   "source": [
    "model_vgg.compile(loss = 'categorical_crossentropy', optimizer = 'adam', metrics = metrics)\n",
    "model_vgg.summary()"
   ]
  },
  {
   "cell_type": "code",
   "execution_count": 11,
   "metadata": {
    "pycharm": {
     "name": "#%%\n"
    }
   },
   "outputs": [
    {
     "name": "stdout",
     "output_type": "stream",
     "text": [
      "Found 83484 images belonging to 4 classes.\n"
     ]
    }
   ],
   "source": [
    "train_datagen = ImageDataGenerator(rescale = 1./255)\n",
    "#rotation_range=0.2,width_shift_range=0.05,height_shift_range=0.05, shear_range=0.05,zoom_range=0.05\n",
    "train_generator = train_datagen.flow_from_directory(train_dir, target_size = (150, 150), class_mode = 'categorical', batch_size = 32)"
   ]
  },
  {
   "cell_type": "code",
   "execution_count": 12,
   "metadata": {
    "pycharm": {
     "name": "#%%\n"
    }
   },
   "outputs": [
    {
     "name": "stdout",
     "output_type": "stream",
     "text": [
      "Found 32 images belonging to 4 classes.\n"
     ]
    }
   ],
   "source": [
    "validation_datagen = ImageDataGenerator(rescale = 1./255)\n",
    "validation_generator = validation_datagen.flow_from_directory(validation_dir, target_size = (150, 150), class_mode = 'categorical', batch_size = 16)"
   ]
  },
  {
   "cell_type": "code",
   "execution_count": 13,
   "metadata": {
    "pycharm": {
     "name": "#%%\n"
    }
   },
   "outputs": [
    {
     "name": "stdout",
     "output_type": "stream",
     "text": [
      "Found 968 images belonging to 4 classes.\n"
     ]
    }
   ],
   "source": [
    "test_datagen = ImageDataGenerator(rescale = 1./255)\n",
    "test_generator = test_datagen.flow_from_directory(test_dir, target_size = (150, 150), class_mode = 'categorical', batch_size = 32)"
   ]
  },
  {
   "cell_type": "code",
   "execution_count": 14,
   "metadata": {
    "pycharm": {
     "name": "#%%\n"
    }
   },
   "outputs": [
    {
     "name": "stdout",
     "output_type": "stream",
     "text": [
      "Epoch 1/50\n"
     ]
    },
    {
     "name": "stderr",
     "output_type": "stream",
     "text": [
      "2022-05-07 11:47:55.291397: W tensorflow/core/platform/profile_utils/cpu_utils.cc:128] Failed to get CPU frequency: 0 Hz\n",
      "2022-05-07 11:47:55.996206: I tensorflow/core/grappler/optimizers/custom_graph_optimizer_registry.cc:113] Plugin optimizer for device_type GPU is enabled.\n"
     ]
    },
    {
     "name": "stdout",
     "output_type": "stream",
     "text": [
      "2609/2608 [==============================] - ETA: 0s - loss: 0.4763 - accuracy: 0.8232 - f1_score: 0.7184 - precision: 0.8560 - recall: 0.7900"
     ]
    },
    {
     "name": "stderr",
     "output_type": "stream",
     "text": [
      "2022-05-07 11:54:44.539784: I tensorflow/core/grappler/optimizers/custom_graph_optimizer_registry.cc:113] Plugin optimizer for device_type GPU is enabled.\n"
     ]
    },
    {
     "name": "stdout",
     "output_type": "stream",
     "text": [
      "2608/2608 [==============================] - 415s 158ms/step - loss: 0.4763 - accuracy: 0.8232 - f1_score: 0.7184 - precision: 0.8560 - recall: 0.7900 - val_loss: 0.1957 - val_accuracy: 0.9390 - val_f1_score: 0.9386 - val_precision: 0.9447 - val_recall: 0.9360\n",
      "Epoch 2/50\n",
      "2608/2608 [==============================] - 413s 158ms/step - loss: 0.3600 - accuracy: 0.8709 - f1_score: 0.8018 - precision: 0.8870 - recall: 0.8552 - val_loss: 0.2431 - val_accuracy: 0.9050 - val_f1_score: 0.9044 - val_precision: 0.9100 - val_recall: 0.8988\n",
      "Epoch 3/50\n",
      "2608/2608 [==============================] - 413s 158ms/step - loss: 0.3278 - accuracy: 0.8829 - f1_score: 0.8217 - precision: 0.8961 - recall: 0.8701 - val_loss: 0.2077 - val_accuracy: 0.9329 - val_f1_score: 0.9323 - val_precision: 0.9422 - val_recall: 0.9267\n",
      "Epoch 4/50\n",
      "2608/2608 [==============================] - 424s 162ms/step - loss: 0.3056 - accuracy: 0.8905 - f1_score: 0.8337 - precision: 0.9020 - recall: 0.8796 - val_loss: 0.2148 - val_accuracy: 0.9267 - val_f1_score: 0.9261 - val_precision: 0.9322 - val_recall: 0.9225\n"
     ]
    }
   ],
   "source": [
    "earlyStopCallback = tf.keras.callbacks.EarlyStopping(monitor='accuracy', patience=3, mode='max', min_delta=0.1, restore_best_weights = True)\n",
    "model_checkpoint_callback = tf.keras.callbacks.ModelCheckpoint(filepath='data/vgg19_model.h5',\n",
    "                                                                   save_weights_only=True, monitor='accuracy',\n",
    "                                                                   mode='max', save_best_only=True)\n",
    "history_vgg = model_vgg.fit(\n",
    "    train_generator,\n",
    "    steps_per_epoch = (83484/32),\n",
    "    epochs = 50,\n",
    "    validation_data = test_generator,\n",
    "    validation_steps = (968/32),\n",
    "    workers=4,\n",
    "    #max_queue_size=100,\n",
    "    verbose = True,\n",
    "    callbacks=[model_checkpoint_callback, earlyStopCallback])"
   ]
  },
  {
   "cell_type": "code",
   "execution_count": 15,
   "metadata": {
    "pycharm": {
     "name": "#%%\n"
    }
   },
   "outputs": [
    {
     "name": "stdout",
     "output_type": "stream",
     "text": [
      "Values for VGG-19 based ConvNet\n"
     ]
    },
    {
     "data": {
      "text/plain": "<Figure size 864x864 with 1 Axes>",
      "image/png": "[encoded data removed]"
     },
     "metadata": {
      "needs_background": "light"
     },
     "output_type": "display_data"
    },
    {
     "data": {
      "text/plain": "<Figure size 864x864 with 1 Axes>",
      "image/png": "[encoded data removed]"
     },
     "metadata": {
      "needs_background": "light"
     },
     "output_type": "display_data"
    }
   ],
   "source": [
    "print(\"Values for VGG-19 based ConvNet\")\n",
    "acc = history_vgg.history['accuracy']\n",
    "val_acc = history_vgg.history['val_accuracy']\n",
    "loss = history_vgg.history['loss']\n",
    "val_loss = history_vgg.history['val_loss']\n",
    "\n",
    "epochs = range(len(acc))\n",
    "\n",
    "plt.figure(figsize=(12,12))\n",
    "\n",
    "plt.plot(epochs, acc, 'r', label = 'Training accuracy')\n",
    "plt.plot(epochs, val_acc, 'b', label = 'Validation accuracy')\n",
    "plt.title('Training & validation accuracy')\n",
    "plt.legend()\n",
    "\n",
    "plt.figure(figsize = (12,12))\n",
    "\n",
    "plt.plot(epochs, loss, 'r', label = 'Training Loss')\n",
    "plt.plot(epochs, val_loss, 'b', label = 'Validation Loss')\n",
    "plt.title('Training $ validation loss')\n",
    "plt.legend()\n",
    "\n",
    "plt.show()"
   ]
  },
  {
   "cell_type": "code",
   "execution_count": 16,
   "metadata": {
    "pycharm": {
     "name": "#%%\n"
    }
   },
   "outputs": [],
   "source": [
    "model_vgg.load_weights('data/vgg19_model.h5')"
   ]
  },
  {
   "cell_type": "code",
   "execution_count": 35,
   "metadata": {
    "pycharm": {
     "name": "#%%\n"
    }
   },
   "outputs": [],
   "source": [
    "test_steps_per_epoch = np.math.ceil(test_generator.samples / test_generator.batch_size)\n",
    "\n",
    "predictions = model_vgg.predict(test_generator)\n",
    "\n",
    "predicted_classes = np.argmax(predictions, axis=1)"
   ]
  },
  {
   "cell_type": "code",
   "execution_count": 36,
   "outputs": [
    {
     "name": "stdout",
     "output_type": "stream",
     "text": [
      "968\n",
      "[1 3 1 0 0 3 2 2 0 0 3 1 3 3 2 0 3 0 0 3 3 2 1 2 1 1 1 3 3 2 0 0 2 0 2 2 1\n",
      " 0 0 3 3 0 3 3 0 0 0 0 3 3 3 3 3 1 2 3 1 1 2 2 2 2 0 3 0 0 3 0 0 2 2 1 0 3\n",
      " 1 2 0 3 2 3 3 3 0 2 2 3 0 3 2 1 0 3 0 0 0 1 2 0 2 1 3 2 3 1 3 2 3 0 0 1 2\n",
      " 2 1 0 3 2 3 0 2 3 0 0 3 0 3 2 2 3 0 1 0 3 0 3 0 3 3 2 2 3 3 2 1 2 0 3 0 1\n",
      " 3 1 3 1 0 1 1 3 2 1 3 2 3 1 0 3 3 1 3 2 2 0 3 2 0 0 2 0 1 3 0 3 3 2 2 3 2\n",
      " 1 2 2 3 3 0 2 1 2 3 2 0 0 2 3 0 3 2 0 2 3 0 2 0 3 0 3 3 0 3 2 1 0 3 0 3 0\n",
      " 2 0 0 3 0 0 0 3 1 2 3 0 3 2 0 2 0 3 0 1 3 1 3 2 1 3 1 1 0 2 3 1 3 0 3 0 0\n",
      " 3 1 1 2 0 3 0 0 2 2 1 0 0 1 1 0 0 2 2 1 0 0 1 1 0 0 2 3 2 0 0 1 2 0 3 3 2\n",
      " 0 3 3 2 2 0 1 1 1 2 3 3 0 1 1 0 2 0 1 3 1 1 1 3 0 2 1 0 2 3 1 3 0 3 1 0 2\n",
      " 0 1 1 2 3 3 3 0 2 2 0 2 1 1 0 2 1 2 1 1 0 3 0 3 1 2 2 3 1 0 0 0 0 1 0 1 1\n",
      " 0 0 0 2 0 0 3 3 2 2 1 3 1 2 2 2 3 1 0 0 3 3 3 0 3 2 3 2 2 3 1 3 2 0 1 1 2\n",
      " 3 0 1 0 1 0 1 2 3 2 2 1 3 2 0 2 0 2 0 2 2 0 1 2 2 3 0 3 3 3 0 3 3 3 2 2 1\n",
      " 3 2 2 0 0 1 2 1 0 1 3 0 0 1 0 0 3 3 0 2 0 2 1 0 3 1 0 3 3 3 0 1 1 1 1 2 2\n",
      " 1 1 3 0 1 3 1 3 0 3 3 1 0 1 1 2 2 0 1 3 3 0 0 2 0 0 3 0 0 3 0 0 0 0 3 0 3\n",
      " 0 0 3 1 2 3 3 0 0 3 3 3 2 3 0 3 3 3 2 1 0 3 1 3 0 3 1 1 1 3 3 0 2 0 1 3 2\n",
      " 0 1 3 0 0 0 1 3 2 0 1 1 1 3 3 0 3 3 3 2 0 0 1 3 2 1 1 1 1 2 3 1 3 0 1 3 3\n",
      " 3 1 0 3 2 1 3 3 3 2 3 1 3 1 1 1 2 0 1 3 0 1 0 0 1 0 3 1 0 1 1 1 1 1 3 1 0\n",
      " 1 3 0 1 2 0 3 1 0 0 1 2 0 1 0 3 0 1 0 2 0 0 2 2 3 3 1 1 0 0 2 1 1 0 0 1 0\n",
      " 3 0 1 0 0 1 3 3 3 2 2 3 3 1 0 1 3 2 1 1 2 3 1 0 3 0 3 3 2 1 2 3 2 0 2 1 0\n",
      " 0 0 1 1 0 2 3 3 2 3 1 2 0 3 0 3 2 3 3 1 3 3 1 1 1 0 3 0 0 2 3 1 0 3 1 2 2\n",
      " 3 0 0 1 1 3 0 0 1 3 3 3 3 3 2 3 3 2 1 0 0 3 0 0 2 0 0 1 1 3 0 2 0 1 0 1 2\n",
      " 3 0 3 1 0 3 1 0 2 1 0 1 2 3 0 0 3 2 2 0 2 1 3 0 3 2 1 0 3 3 3 3 2 0 2 1 3\n",
      " 0 2 0 1 2 3 2 2 1 0 3 0 1 3 0 3 1 1 0 3 1 3 0 2 3 0 1 0 1 0 0 0 3 3 0 0 0\n",
      " 3 0 3 3 0 2 2 1 2 0 1 3 0 0 0 0 1 2 2 0 2 1 2 3 3 2 2 0 2 0 0 2 0 1 1 2 3\n",
      " 3 1 2 1 0 3 1 2 3 3 2 2 0 3 2 2 0 1 0 0 3 0 1 0 2 2 1 1 3 1 0 0 1 2 3 2 3\n",
      " 3 2 2 3 0 2 2 1 2 2 2 1 1 3 0 3 1 0 3 3 2 3 1 1 2 0 0 3 3 0 1 1 1 1 3 0 0\n",
      " 0 2 0 2 2 2]\n"
     ]
    }
   ],
   "source": [
    "print(len(predicted_classes))\n",
    "print(predicted_classes)"
   ],
   "metadata": {
    "collapsed": false,
    "pycharm": {
     "name": "#%%\n"
    }
   }
  },
  {
   "cell_type": "code",
   "execution_count": 37,
   "metadata": {
    "pycharm": {
     "name": "#%%\n"
    }
   },
   "outputs": [],
   "source": [
    "true_classes = test_generator.classes\n",
    "class_labels = list(test_generator.class_indices.keys())"
   ]
  },
  {
   "cell_type": "code",
   "execution_count": 38,
   "outputs": [
    {
     "name": "stdout",
     "output_type": "stream",
     "text": [
      "[0 0 0 0 0 0 0 0 0 0 0 0 0 0 0 0 0 0 0 0 0 0 0 0 0 0 0 0 0 0 0 0 0 0 0 0 0\n",
      " 0 0 0 0 0 0 0 0 0 0 0 0 0 0 0 0 0 0 0 0 0 0 0 0 0 0 0 0 0 0 0 0 0 0 0 0 0\n",
      " 0 0 0 0 0 0 0 0 0 0 0 0 0 0 0 0 0 0 0 0 0 0 0 0 0 0 0 0 0 0 0 0 0 0 0 0 0\n",
      " 0 0 0 0 0 0 0 0 0 0 0 0 0 0 0 0 0 0 0 0 0 0 0 0 0 0 0 0 0 0 0 0 0 0 0 0 0\n",
      " 0 0 0 0 0 0 0 0 0 0 0 0 0 0 0 0 0 0 0 0 0 0 0 0 0 0 0 0 0 0 0 0 0 0 0 0 0\n",
      " 0 0 0 0 0 0 0 0 0 0 0 0 0 0 0 0 0 0 0 0 0 0 0 0 0 0 0 0 0 0 0 0 0 0 0 0 0\n",
      " 0 0 0 0 0 0 0 0 0 0 0 0 0 0 0 0 0 0 0 0 1 1 1 1 1 1 1 1 1 1 1 1 1 1 1 1 1\n",
      " 1 1 1 1 1 1 1 1 1 1 1 1 1 1 1 1 1 1 1 1 1 1 1 1 1 1 1 1 1 1 1 1 1 1 1 1 1\n",
      " 1 1 1 1 1 1 1 1 1 1 1 1 1 1 1 1 1 1 1 1 1 1 1 1 1 1 1 1 1 1 1 1 1 1 1 1 1\n",
      " 1 1 1 1 1 1 1 1 1 1 1 1 1 1 1 1 1 1 1 1 1 1 1 1 1 1 1 1 1 1 1 1 1 1 1 1 1\n",
      " 1 1 1 1 1 1 1 1 1 1 1 1 1 1 1 1 1 1 1 1 1 1 1 1 1 1 1 1 1 1 1 1 1 1 1 1 1\n",
      " 1 1 1 1 1 1 1 1 1 1 1 1 1 1 1 1 1 1 1 1 1 1 1 1 1 1 1 1 1 1 1 1 1 1 1 1 1\n",
      " 1 1 1 1 1 1 1 1 1 1 1 1 1 1 1 1 1 1 1 1 1 1 1 1 1 1 1 1 1 1 1 1 1 1 1 1 1\n",
      " 1 1 1 2 2 2 2 2 2 2 2 2 2 2 2 2 2 2 2 2 2 2 2 2 2 2 2 2 2 2 2 2 2 2 2 2 2\n",
      " 2 2 2 2 2 2 2 2 2 2 2 2 2 2 2 2 2 2 2 2 2 2 2 2 2 2 2 2 2 2 2 2 2 2 2 2 2\n",
      " 2 2 2 2 2 2 2 2 2 2 2 2 2 2 2 2 2 2 2 2 2 2 2 2 2 2 2 2 2 2 2 2 2 2 2 2 2\n",
      " 2 2 2 2 2 2 2 2 2 2 2 2 2 2 2 2 2 2 2 2 2 2 2 2 2 2 2 2 2 2 2 2 2 2 2 2 2\n",
      " 2 2 2 2 2 2 2 2 2 2 2 2 2 2 2 2 2 2 2 2 2 2 2 2 2 2 2 2 2 2 2 2 2 2 2 2 2\n",
      " 2 2 2 2 2 2 2 2 2 2 2 2 2 2 2 2 2 2 2 2 2 2 2 2 2 2 2 2 2 2 2 2 2 2 2 2 2\n",
      " 2 2 2 2 2 2 2 2 2 2 2 2 2 2 2 2 2 2 2 2 2 2 2 3 3 3 3 3 3 3 3 3 3 3 3 3 3\n",
      " 3 3 3 3 3 3 3 3 3 3 3 3 3 3 3 3 3 3 3 3 3 3 3 3 3 3 3 3 3 3 3 3 3 3 3 3 3\n",
      " 3 3 3 3 3 3 3 3 3 3 3 3 3 3 3 3 3 3 3 3 3 3 3 3 3 3 3 3 3 3 3 3 3 3 3 3 3\n",
      " 3 3 3 3 3 3 3 3 3 3 3 3 3 3 3 3 3 3 3 3 3 3 3 3 3 3 3 3 3 3 3 3 3 3 3 3 3\n",
      " 3 3 3 3 3 3 3 3 3 3 3 3 3 3 3 3 3 3 3 3 3 3 3 3 3 3 3 3 3 3 3 3 3 3 3 3 3\n",
      " 3 3 3 3 3 3 3 3 3 3 3 3 3 3 3 3 3 3 3 3 3 3 3 3 3 3 3 3 3 3 3 3 3 3 3 3 3\n",
      " 3 3 3 3 3 3 3 3 3 3 3 3 3 3 3 3 3 3 3 3 3 3 3 3 3 3 3 3 3 3 3 3 3 3 3 3 3\n",
      " 3 3 3 3 3 3]\n"
     ]
    }
   ],
   "source": [
    "print(true_classes)"
   ],
   "metadata": {
    "collapsed": false,
    "pycharm": {
     "name": "#%%\n"
    }
   }
  },
  {
   "cell_type": "code",
   "execution_count": 39,
   "metadata": {
    "pycharm": {
     "name": "#%%\n"
    }
   },
   "outputs": [
    {
     "name": "stdout",
     "output_type": "stream",
     "text": [
      "              precision    recall  f1-score   support\n",
      "\n",
      "         CNV       0.26      0.30      0.27       242\n",
      "         DME       0.29      0.26      0.27       242\n",
      "      DRUSEN       0.16      0.14      0.15       242\n",
      "      NORMAL       0.23      0.25      0.24       242\n",
      "\n",
      "    accuracy                           0.24       968\n",
      "   macro avg       0.23      0.24      0.23       968\n",
      "weighted avg       0.23      0.24      0.23       968\n",
      "\n"
     ]
    }
   ],
   "source": [
    "report = sklearn.metrics.classification_report(true_classes, predicted_classes, target_names = class_labels)\n",
    "print(report)"
   ]
  },
  {
   "cell_type": "code",
   "execution_count": 22,
   "metadata": {
    "pycharm": {
     "name": "#%%\n"
    }
   },
   "outputs": [
    {
     "data": {
      "text/plain": "<Figure size 576x576 with 2 Axes>",
      "image/png": "[encoded data removed]"
     },
     "metadata": {
      "needs_background": "light"
     },
     "output_type": "display_data"
    }
   ],
   "source": [
    "cm = sklearn.metrics.confusion_matrix(true_classes, predicted_classes)\n",
    "plt.figure(figsize=(8,8))\n",
    "classes = train_generator.class_indices.keys()\n",
    "sns.heatmap(cm, fmt='.0f', annot=True, linewidths=0.2, linecolor='purple', xticklabels=classes, yticklabels=classes)\n",
    "plt.show()"
   ]
  },
  {
   "cell_type": "markdown",
   "metadata": {
    "pycharm": {
     "name": "#%% md\n"
    }
   },
   "source": [
    "### Heatmaps"
   ]
  },
  {
   "cell_type": "code",
   "execution_count": 23,
   "metadata": {
    "pycharm": {
     "name": "#%%\n"
    }
   },
   "outputs": [],
   "source": [
    "import numpy as np\n",
    "import tensorflow as tf\n",
    "from tensorflow import keras\n",
    "\n",
    "# Display\n",
    "from IPython.display import Image, display\n",
    "import matplotlib.pyplot as plt\n",
    "import matplotlib.cm as cm\n"
   ]
  },
  {
   "cell_type": "code",
   "execution_count": 24,
   "metadata": {
    "pycharm": {
     "name": "#%%\n"
    }
   },
   "outputs": [],
   "source": [
    "def get_img_array(img_path, size):\n",
    "    # `img` is a PIL image of size 299x299\n",
    "    img = keras.preprocessing.image.load_img(img_path, target_size=size)\n",
    "    # `array` is a float32 Numpy array of shape (299, 299, 3)\n",
    "    array = keras.preprocessing.image.img_to_array(img)\n",
    "    # We add a dimension to transform our array into a \"batch\"\n",
    "    # of size (1, 299, 299, 3)\n",
    "    array = np.expand_dims(array, axis=0)\n",
    "    return array\n",
    "\n",
    "def make_gradcam_heatmap(img_array, model, last_conv_layer_name, pred_index=None):\n",
    "    # First, we create a model that maps the input image to the activations\n",
    "    # of the last conv layer as well as the output predictions\n",
    "    grad_model = tf.keras.models.Model(\n",
    "        [model.inputs], [model.get_layer(last_conv_layer_name).output, model.output]\n",
    "    )\n",
    "\n",
    "    # Then, we compute the gradient of the top predicted class for our input image\n",
    "    # with respect to the activations of the last conv layer\n",
    "    with tf.GradientTape() as tape:\n",
    "        last_conv_layer_output, preds = grad_model(img_array)\n",
    "        if pred_index is None:\n",
    "            pred_index = tf.argmax(preds[0])\n",
    "        class_channel = preds[:, pred_index]\n",
    "\n",
    "    # This is the gradient of the output neuron (top predicted or chosen)\n",
    "    # with regard to the output feature map of the last conv layer\n",
    "    grads = tape.gradient(class_channel, last_conv_layer_output)\n",
    "\n",
    "    # This is a vector where each entry is the mean intensity of the gradient\n",
    "    # over a specific feature map channel\n",
    "    pooled_grads = tf.reduce_mean(grads, axis=(0, 1, 2))\n",
    "\n",
    "    # We multiply each channel in the feature map array\n",
    "    # by \"how important this channel is\" with regard to the top predicted class\n",
    "    # then sum all the channels to obtain the heatmap class activation\n",
    "    last_conv_layer_output = last_conv_layer_output[0]\n",
    "    heatmap = last_conv_layer_output @ pooled_grads[..., tf.newaxis]\n",
    "    heatmap = tf.squeeze(heatmap)\n",
    "\n",
    "    # For visualization purpose, we will also normalize the heatmap between 0 & 1\n",
    "    heatmap = tf.maximum(heatmap, 0) / tf.math.reduce_max(heatmap)\n",
    "    return heatmap.numpy()\n",
    "\n",
    "def save_and_display_gradcam(img_path, heatmap, path=\"cam.jpg\", alpha=0.5):\n",
    "    # Load the original image\n",
    "    img = keras.preprocessing.image.load_img(img_path)\n",
    "    img = keras.preprocessing.image.img_to_array(img)\n",
    "\n",
    "    # Rescale heatmap to a range 0-255\n",
    "    heatmap = np.uint8(255 * heatmap)\n",
    "\n",
    "    # Use jet colormap to colorize heatmap\n",
    "    jet = cm.get_cmap(\"jet\")\n",
    "\n",
    "    # Use RGB values of the colormap\n",
    "    jet_colors = jet(np.arange(256))[:, :3]\n",
    "    jet_heatmap = jet_colors[heatmap]\n",
    "\n",
    "    # Create an image with RGB colorized heatmap\n",
    "    jet_heatmap = keras.preprocessing.image.array_to_img(jet_heatmap)\n",
    "    jet_heatmap = jet_heatmap.resize((img.shape[1], img.shape[0]))\n",
    "    jet_heatmap = keras.preprocessing.image.img_to_array(jet_heatmap)\n",
    "\n",
    "    # Superimpose the heatmap on original image\n",
    "    superimposed_img = jet_heatmap * alpha + img\n",
    "    superimposed_img = keras.preprocessing.image.array_to_img(superimposed_img)\n",
    "\n",
    "    # Save the superimposed image\n",
    "    superimposed_img.save(path)\n",
    "\n",
    "    # Display Grad CAM\n",
    "    display(Image(path))\n",
    "\n",
    "def get_data_by_category(train_data, category):\n",
    "    sample = train_data.loc[train_data[category] == 1]\n",
    "    sample = sample[:5]\n",
    "    names = sample['filename'].to_numpy()\n",
    "    labels = sample['label'].to_numpy()\n",
    "\n",
    "    return names, labels\n",
    "\n",
    "def number_to_string(label):\n",
    "    if label == 0:\n",
    "        return 'CNV'\n",
    "    elif label == 1:\n",
    "        return 'DME'\n",
    "    elif label == 2 :\n",
    "        return 'DRUSEN'\n",
    "    elif label == 2 :\n",
    "        return 'NORMAL'\n",
    "        return 'nothing'\n",
    "\n",
    "def visualize_hetmaps(names, labels, img_size, model, last_conv_layer_name):\n",
    "    i = 0\n",
    "    for row in names:\n",
    "        print(row)\n",
    "        path = train_dir + row\n",
    "        img_array = get_img_array(path, size=img_size)\n",
    "        model.layers[-1].activation = None\n",
    "        heatmap = make_gradcam_heatmap(img_array, model, last_conv_layer_name)\n",
    "        save_and_display_gradcam(path, heatmap, 'data/OCT2017 /predicted/' + row)\n",
    "        preds = model.predict(img_array)\n",
    "        y_pred = np.argmax(preds, axis=1)\n",
    "        print(\"Predicted:\", number_to_string(y_pred[0]))\n",
    "        print(\"Original:\", labels[i])\n",
    "        i = i + 1"
   ]
  },
  {
   "cell_type": "code",
   "execution_count": 25,
   "metadata": {
    "pycharm": {
     "name": "#%%\n"
    }
   },
   "outputs": [
    {
     "name": "stdout",
     "output_type": "stream",
     "text": [
      "Model: \"sequential\"\n",
      "_________________________________________________________________\n",
      " Layer (type)                Output Shape              Param #   \n",
      "=================================================================\n",
      " vgg19 (Functional)          (None, 4, 4, 512)         20024384  \n",
      "                                                                 \n",
      " conv2d (Conv2D)             (None, 4, 4, 128)         589952    \n",
      "                                                                 \n",
      " p_re_lu (PReLU)             (None, 4, 4, 128)         2048      \n",
      "                                                                 \n",
      " conv2d_1 (Conv2D)           (None, 4, 4, 64)          73792     \n",
      "                                                                 \n",
      " p_re_lu_1 (PReLU)           (None, 4, 4, 64)          1024      \n",
      "                                                                 \n",
      " flatten (Flatten)           (None, 1024)              0         \n",
      "                                                                 \n",
      " dense (Dense)               (None, 100)               102500    \n",
      "                                                                 \n",
      " p_re_lu_2 (PReLU)           (None, 100)               100       \n",
      "                                                                 \n",
      " dense_1 (Dense)             (None, 4)                 404       \n",
      "                                                                 \n",
      "=================================================================\n",
      "Total params: 20,794,204\n",
      "Trainable params: 769,820\n",
      "Non-trainable params: 20,024,384\n",
      "_________________________________________________________________\n"
     ]
    }
   ],
   "source": [
    "model_vgg.summary()"
   ]
  },
  {
   "cell_type": "code",
   "execution_count": 26,
   "metadata": {
    "pycharm": {
     "name": "#%%\n"
    }
   },
   "outputs": [],
   "source": [
    "img_size = (150, 150)\n",
    "preprocess_input = keras.applications.xception.preprocess_input\n",
    "last_conv_layer_name = 'conv2d_1'"
   ]
  },
  {
   "cell_type": "code",
   "execution_count": 27,
   "metadata": {
    "pycharm": {
     "name": "#%%\n"
    }
   },
   "outputs": [],
   "source": [
    "names = validation_generator.filenames"
   ]
  },
  {
   "cell_type": "code",
   "execution_count": 28,
   "metadata": {
    "pycharm": {
     "name": "#%%\n"
    }
   },
   "outputs": [],
   "source": [
    "labels = validation_generator.labels"
   ]
  },
  {
   "cell_type": "code",
   "execution_count": 29,
   "metadata": {
    "pycharm": {
     "name": "#%%\n"
    }
   },
   "outputs": [
    {
     "name": "stdout",
     "output_type": "stream",
     "text": [
      "CNV/CNV-6294785-1.jpeg\n"
     ]
    },
    {
     "ename": "FileNotFoundError",
     "evalue": "[Errno 2] No such file or directory: 'data/OCT2017 /predicted/CNV/CNV-6294785-1.jpeg'",
     "output_type": "error",
     "traceback": [
      "\u001B[0;31m---------------------------------------------------------------------------\u001B[0m",
      "\u001B[0;31mFileNotFoundError\u001B[0m                         Traceback (most recent call last)",
      "Input \u001B[0;32mIn [29]\u001B[0m, in \u001B[0;36m<cell line: 1>\u001B[0;34m()\u001B[0m\n\u001B[0;32m----> 1\u001B[0m \u001B[43mvisualize_hetmaps\u001B[49m\u001B[43m(\u001B[49m\u001B[43mnames\u001B[49m\u001B[43m[\u001B[49m\u001B[38;5;241;43m0\u001B[39;49m\u001B[43m:\u001B[49m\u001B[38;5;241;43m10\u001B[39;49m\u001B[43m]\u001B[49m\u001B[43m,\u001B[49m\u001B[43m \u001B[49m\u001B[43mlabels\u001B[49m\u001B[43m[\u001B[49m\u001B[38;5;241;43m0\u001B[39;49m\u001B[43m:\u001B[49m\u001B[38;5;241;43m10\u001B[39;49m\u001B[43m]\u001B[49m\u001B[43m,\u001B[49m\u001B[43m \u001B[49m\u001B[43mimg_size\u001B[49m\u001B[43m,\u001B[49m\u001B[43m \u001B[49m\u001B[43mmodel_vgg\u001B[49m\u001B[43m,\u001B[49m\u001B[43m \u001B[49m\u001B[43mlast_conv_layer_name\u001B[49m\u001B[43m)\u001B[49m\n",
      "Input \u001B[0;32mIn [24]\u001B[0m, in \u001B[0;36mvisualize_hetmaps\u001B[0;34m(names, labels, img_size, model, last_conv_layer_name)\u001B[0m\n\u001B[1;32m    100\u001B[0m model\u001B[38;5;241m.\u001B[39mlayers[\u001B[38;5;241m-\u001B[39m\u001B[38;5;241m1\u001B[39m]\u001B[38;5;241m.\u001B[39mactivation \u001B[38;5;241m=\u001B[39m \u001B[38;5;28;01mNone\u001B[39;00m\n\u001B[1;32m    101\u001B[0m heatmap \u001B[38;5;241m=\u001B[39m make_gradcam_heatmap(img_array, model, last_conv_layer_name)\n\u001B[0;32m--> 102\u001B[0m \u001B[43msave_and_display_gradcam\u001B[49m\u001B[43m(\u001B[49m\u001B[43mpath\u001B[49m\u001B[43m,\u001B[49m\u001B[43m \u001B[49m\u001B[43mheatmap\u001B[49m\u001B[43m,\u001B[49m\u001B[43m \u001B[49m\u001B[38;5;124;43m'\u001B[39;49m\u001B[38;5;124;43mdata/OCT2017 /predicted/\u001B[39;49m\u001B[38;5;124;43m'\u001B[39;49m\u001B[43m \u001B[49m\u001B[38;5;241;43m+\u001B[39;49m\u001B[43m \u001B[49m\u001B[43mrow\u001B[49m\u001B[43m)\u001B[49m\n\u001B[1;32m    103\u001B[0m preds \u001B[38;5;241m=\u001B[39m model\u001B[38;5;241m.\u001B[39mpredict(img_array)\n\u001B[1;32m    104\u001B[0m y_pred \u001B[38;5;241m=\u001B[39m np\u001B[38;5;241m.\u001B[39margmax(preds, axis\u001B[38;5;241m=\u001B[39m\u001B[38;5;241m1\u001B[39m)\n",
      "Input \u001B[0;32mIn [24]\u001B[0m, in \u001B[0;36msave_and_display_gradcam\u001B[0;34m(img_path, heatmap, path, alpha)\u001B[0m\n\u001B[1;32m     67\u001B[0m superimposed_img \u001B[38;5;241m=\u001B[39m keras\u001B[38;5;241m.\u001B[39mpreprocessing\u001B[38;5;241m.\u001B[39mimage\u001B[38;5;241m.\u001B[39marray_to_img(superimposed_img)\n\u001B[1;32m     69\u001B[0m \u001B[38;5;66;03m# Save the superimposed image\u001B[39;00m\n\u001B[0;32m---> 70\u001B[0m \u001B[43msuperimposed_img\u001B[49m\u001B[38;5;241;43m.\u001B[39;49m\u001B[43msave\u001B[49m\u001B[43m(\u001B[49m\u001B[43mpath\u001B[49m\u001B[43m)\u001B[49m\n\u001B[1;32m     72\u001B[0m \u001B[38;5;66;03m# Display Grad CAM\u001B[39;00m\n\u001B[1;32m     73\u001B[0m display(Image(path))\n",
      "File \u001B[0;32m~/.conda/envs/Tensorflow-macos-env/env/lib/python3.8/site-packages/PIL/Image.py:2209\u001B[0m, in \u001B[0;36mImage.save\u001B[0;34m(self, fp, format, **params)\u001B[0m\n\u001B[1;32m   2207\u001B[0m         fp \u001B[38;5;241m=\u001B[39m builtins\u001B[38;5;241m.\u001B[39mopen(filename, \u001B[38;5;124m\"\u001B[39m\u001B[38;5;124mr+b\u001B[39m\u001B[38;5;124m\"\u001B[39m)\n\u001B[1;32m   2208\u001B[0m     \u001B[38;5;28;01melse\u001B[39;00m:\n\u001B[0;32m-> 2209\u001B[0m         fp \u001B[38;5;241m=\u001B[39m \u001B[43mbuiltins\u001B[49m\u001B[38;5;241;43m.\u001B[39;49m\u001B[43mopen\u001B[49m\u001B[43m(\u001B[49m\u001B[43mfilename\u001B[49m\u001B[43m,\u001B[49m\u001B[43m \u001B[49m\u001B[38;5;124;43m\"\u001B[39;49m\u001B[38;5;124;43mw+b\u001B[39;49m\u001B[38;5;124;43m\"\u001B[39;49m\u001B[43m)\u001B[49m\n\u001B[1;32m   2211\u001B[0m \u001B[38;5;28;01mtry\u001B[39;00m:\n\u001B[1;32m   2212\u001B[0m     save_handler(\u001B[38;5;28mself\u001B[39m, fp, filename)\n",
      "\u001B[0;31mFileNotFoundError\u001B[0m: [Errno 2] No such file or directory: 'data/OCT2017 /predicted/CNV/CNV-6294785-1.jpeg'"
     ]
    }
   ],
   "source": [
    "visualize_hetmaps(names[0:10], labels[0:10], img_size, model_vgg, last_conv_layer_name)"
   ]
  }
 ],
 "metadata": {
  "kernelspec": {
   "display_name": "Python 3 (ipykernel)",
   "language": "python",
   "name": "python3"
  },
  "language_info": {
   "codemirror_mode": {
    "name": "ipython",
    "version": 3
   },
   "file_extension": ".py",
   "mimetype": "text/x-python",
   "name": "python",
   "nbconvert_exporter": "python",
   "pygments_lexer": "ipython3",
   "version": "3.8.13"
  }
 },
 "nbformat": 4,
 "nbformat_minor": 1
}