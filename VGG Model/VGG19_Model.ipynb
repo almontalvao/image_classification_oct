{
 "cells": [
  {
   "cell_type": "markdown",
   "metadata": {
    "pycharm": {
     "name": "#%% md\n"
    }
   },
   "source": [
    "# Retinal OCT using VGG19"
   ]
  },
  {
   "cell_type": "markdown",
   "metadata": {
    "pycharm": {
     "name": "#%% md\n"
    }
   },
   "source": [
    "### Import libraries"
   ]
  },
  {
   "cell_type": "code",
   "execution_count": 4,
   "metadata": {
    "pycharm": {
     "name": "#%%\n"
    }
   },
   "outputs": [],
   "source": [
    "import os\n",
    "import random\n",
    "\n",
    "import numpy as np\n",
    "import matplotlib.pyplot as plt\n",
    "import seaborn as sns\n",
    "import sklearn.metrics\n",
    "\n",
    "import tensorflow as tf\n",
    "import tensorflow_addons as tfa\n",
    "from keras.preprocessing.image import ImageDataGenerator, load_img\n",
    "from scipy.io._test_fortran import __test_fortran_error\n",
    "from tensorflow.python.ops.gen_dataset_ops import model_dataset"
   ]
  },
  {
   "cell_type": "code",
   "execution_count": 5,
   "metadata": {
    "pycharm": {
     "name": "#%%\n"
    }
   },
   "outputs": [],
   "source": [
    "base_dir = os.path.join('data/OCT2017 /')"
   ]
  },
  {
   "cell_type": "code",
   "execution_count": 6,
   "metadata": {
    "pycharm": {
     "name": "#%%\n"
    }
   },
   "outputs": [],
   "source": [
    "train_dir = os.path.join(base_dir + \"train/\")"
   ]
  },
  {
   "cell_type": "code",
   "execution_count": 7,
   "metadata": {
    "pycharm": {
     "name": "#%%\n"
    }
   },
   "outputs": [],
   "source": [
    "test_dir = os.path.join(base_dir + \"test/\")"
   ]
  },
  {
   "cell_type": "code",
   "execution_count": 8,
   "metadata": {
    "pycharm": {
     "name": "#%%\n"
    }
   },
   "outputs": [],
   "source": [
    "validation_dir = os.path.join(base_dir + \"val/\")"
   ]
  },
  {
   "cell_type": "code",
   "execution_count": 9,
   "metadata": {
    "pycharm": {
     "name": "#%%\n"
    }
   },
   "outputs": [
    {
     "name": "stderr",
     "output_type": "stream",
     "text": [
      "2022-05-11 19:24:31.062452: I tensorflow/core/common_runtime/pluggable_device/pluggable_device_factory.cc:305] Could not identify NUMA node of platform GPU ID 0, defaulting to 0. Your kernel may not have been built with NUMA support.\n",
      "2022-05-11 19:24:31.062742: I tensorflow/core/common_runtime/pluggable_device/pluggable_device_factory.cc:271] Created TensorFlow device (/job:localhost/replica:0/task:0/device:GPU:0 with 0 MB memory) -> physical PluggableDevice (device: 0, name: METAL, pci bus id: <undefined>)\n"
     ]
    },
    {
     "name": "stdout",
     "output_type": "stream",
     "text": [
      "Metal device set to: Apple M1 Pro\n"
     ]
    }
   ],
   "source": [
    "vgg19 = tf.keras.applications.VGG19(\n",
    "    include_top = False,\n",
    "    weights = 'imagenet',\n",
    "    input_tensor = None,\n",
    "    input_shape = (150,150,3),\n",
    "    pooling = None\n",
    ")"
   ]
  },
  {
   "cell_type": "code",
   "execution_count": 10,
   "metadata": {
    "pycharm": {
     "name": "#%%\n"
    }
   },
   "outputs": [],
   "source": [
    "vgg19.trainable = False"
   ]
  },
  {
   "cell_type": "code",
   "execution_count": 11,
   "metadata": {
    "pycharm": {
     "name": "#%%\n"
    }
   },
   "outputs": [],
   "source": [
    "model_vgg = tf.keras.models.Sequential([\n",
    "\n",
    "    vgg19,\n",
    "    tf.keras.layers.Conv2D(128, kernel_size = (3, 3), padding = 'same'),\n",
    "    tf.keras.layers.PReLU(alpha_initializer='zeros'),# modifying final layers of VGG-19\n",
    "    tf.keras.layers.Conv2D(64, kernel_size = (3, 3), padding = 'same'),\n",
    "    tf.keras.layers.PReLU(alpha_initializer='zeros'),\n",
    "    tf.keras.layers.Flatten(),\n",
    "    tf.keras.layers.Dense(100),\n",
    "    tf.keras.layers.PReLU(alpha_initializer='zeros'),\n",
    "    tf.keras.layers.Dense(4, activation = 'softmax')\n",
    "])"
   ]
  },
  {
   "cell_type": "code",
   "execution_count": 12,
   "metadata": {
    "pycharm": {
     "name": "#%%\n"
    }
   },
   "outputs": [],
   "source": [
    "metrics = ['accuracy',\n",
    "                tfa.metrics.F1Score(num_classes = 4),\n",
    "                tf.keras.metrics.Precision(),\n",
    "                tf.keras.metrics.Recall()]"
   ]
  },
  {
   "cell_type": "code",
   "execution_count": 13,
   "metadata": {
    "pycharm": {
     "name": "#%%\n"
    }
   },
   "outputs": [
    {
     "name": "stdout",
     "output_type": "stream",
     "text": [
      "Model: \"sequential\"\n",
      "_________________________________________________________________\n",
      " Layer (type)                Output Shape              Param #   \n",
      "=================================================================\n",
      " vgg19 (Functional)          (None, 4, 4, 512)         20024384  \n",
      "                                                                 \n",
      " conv2d (Conv2D)             (None, 4, 4, 128)         589952    \n",
      "                                                                 \n",
      " p_re_lu (PReLU)             (None, 4, 4, 128)         2048      \n",
      "                                                                 \n",
      " conv2d_1 (Conv2D)           (None, 4, 4, 64)          73792     \n",
      "                                                                 \n",
      " p_re_lu_1 (PReLU)           (None, 4, 4, 64)          1024      \n",
      "                                                                 \n",
      " flatten (Flatten)           (None, 1024)              0         \n",
      "                                                                 \n",
      " dense (Dense)               (None, 100)               102500    \n",
      "                                                                 \n",
      " p_re_lu_2 (PReLU)           (None, 100)               100       \n",
      "                                                                 \n",
      " dense_1 (Dense)             (None, 4)                 404       \n",
      "                                                                 \n",
      "=================================================================\n",
      "Total params: 20,794,204\n",
      "Trainable params: 769,820\n",
      "Non-trainable params: 20,024,384\n",
      "_________________________________________________________________\n"
     ]
    }
   ],
   "source": [
    "model_vgg.compile(loss = 'categorical_crossentropy', optimizer = tf.keras.optimizers.Adam(learning_rate=0.001), metrics = metrics)\n",
    "model_vgg.summary()"
   ]
  },
  {
   "cell_type": "code",
   "execution_count": 14,
   "metadata": {
    "pycharm": {
     "name": "#%%\n"
    }
   },
   "outputs": [
    {
     "name": "stdout",
     "output_type": "stream",
     "text": [
      "Found 83484 images belonging to 4 classes.\n"
     ]
    }
   ],
   "source": [
    "train_datagen = ImageDataGenerator(rescale = 1./255)\n",
    "#rotation_range=0.2,width_shift_range=0.05,height_shift_range=0.05, shear_range=0.05,zoom_range=0.05\n",
    "train_generator = train_datagen.flow_from_directory(train_dir, target_size = (150, 150), class_mode = 'categorical', batch_size = 32)"
   ]
  },
  {
   "cell_type": "code",
   "execution_count": 15,
   "metadata": {
    "pycharm": {
     "name": "#%%\n"
    }
   },
   "outputs": [
    {
     "name": "stdout",
     "output_type": "stream",
     "text": [
      "Found 32 images belonging to 4 classes.\n"
     ]
    }
   ],
   "source": [
    "validation_datagen = ImageDataGenerator(rescale = 1./255)\n",
    "validation_generator = validation_datagen.flow_from_directory(validation_dir, target_size = (150, 150), class_mode = 'categorical', batch_size = 16)"
   ]
  },
  {
   "cell_type": "code",
   "execution_count": 16,
   "metadata": {
    "pycharm": {
     "name": "#%%\n"
    }
   },
   "outputs": [
    {
     "name": "stdout",
     "output_type": "stream",
     "text": [
      "Found 968 images belonging to 4 classes.\n"
     ]
    }
   ],
   "source": [
    "test_datagen = ImageDataGenerator(rescale = 1./255)\n",
    "test_generator = test_datagen.flow_from_directory(test_dir, target_size = (150, 150), class_mode = 'categorical', batch_size = 32, shuffle=False)"
   ]
  },
  {
   "cell_type": "code",
   "execution_count": 107,
   "metadata": {
    "pycharm": {
     "name": "#%%\n"
    }
   },
   "outputs": [
    {
     "name": "stdout",
     "output_type": "stream",
     "text": [
      "Epoch 1/100\n"
     ]
    },
    {
     "name": "stderr",
     "output_type": "stream",
     "text": [
      "2022-05-07 19:00:45.615749: I tensorflow/core/grappler/optimizers/custom_graph_optimizer_registry.cc:113] Plugin optimizer for device_type GPU is enabled.\n"
     ]
    },
    {
     "name": "stdout",
     "output_type": "stream",
     "text": [
      "2609/2608 [==============================] - ETA: 0s - loss: 0.4751 - accuracy: 0.8239 - f1_score: 0.7229 - precision_2: 0.8561 - recall_2: 0.7923"
     ]
    },
    {
     "name": "stderr",
     "output_type": "stream",
     "text": [
      "2022-05-07 19:07:42.607817: I tensorflow/core/grappler/optimizers/custom_graph_optimizer_registry.cc:113] Plugin optimizer for device_type GPU is enabled.\n"
     ]
    },
    {
     "name": "stdout",
     "output_type": "stream",
     "text": [
      "2608/2608 [==============================] - 426s 161ms/step - loss: 0.4751 - accuracy: 0.8239 - f1_score: 0.7229 - precision_2: 0.8561 - recall_2: 0.7923 - val_loss: 0.3541 - val_accuracy: 0.8450 - val_f1_score: 0.8399 - val_precision_2: 0.8523 - val_recall_2: 0.8347\n",
      "Epoch 2/100\n",
      "2608/2608 [==============================] - 424s 162ms/step - loss: 0.3611 - accuracy: 0.8699 - f1_score: 0.8003 - precision_2: 0.8863 - recall_2: 0.8539 - val_loss: 0.2253 - val_accuracy: 0.9308 - val_f1_score: 0.9307 - val_precision_2: 0.9399 - val_recall_2: 0.9205\n",
      "Epoch 3/100\n",
      "2608/2608 [==============================] - 435s 167ms/step - loss: 0.3255 - accuracy: 0.8835 - f1_score: 0.8223 - precision_2: 0.8973 - recall_2: 0.8707 - val_loss: 0.1446 - val_accuracy: 0.9525 - val_f1_score: 0.9523 - val_precision_2: 0.9542 - val_recall_2: 0.9473\n",
      "Epoch 4/100\n",
      "2608/2608 [==============================] - 443s 170ms/step - loss: 0.3030 - accuracy: 0.8924 - f1_score: 0.8370 - precision_2: 0.9042 - recall_2: 0.8808 - val_loss: 0.1681 - val_accuracy: 0.9566 - val_f1_score: 0.9565 - val_precision_2: 0.9585 - val_recall_2: 0.9535\n",
      "Epoch 5/100\n",
      "2608/2608 [==============================] - 435s 167ms/step - loss: 0.2822 - accuracy: 0.8996 - f1_score: 0.8483 - precision_2: 0.9095 - recall_2: 0.8899 - val_loss: 0.1707 - val_accuracy: 0.9390 - val_f1_score: 0.9391 - val_precision_2: 0.9427 - val_recall_2: 0.9349\n",
      "Epoch 6/100\n",
      "2608/2608 [==============================] - 423s 162ms/step - loss: 0.2683 - accuracy: 0.9052 - f1_score: 0.8566 - precision_2: 0.9145 - recall_2: 0.8961 - val_loss: 0.2120 - val_accuracy: 0.9122 - val_f1_score: 0.9109 - val_precision_2: 0.9138 - val_recall_2: 0.9091\n",
      "Epoch 7/100\n",
      "2608/2608 [==============================] - 424s 162ms/step - loss: 0.2559 - accuracy: 0.9103 - f1_score: 0.8645 - precision_2: 0.9196 - recall_2: 0.9018 - val_loss: 0.1938 - val_accuracy: 0.9380 - val_f1_score: 0.9376 - val_precision_2: 0.9435 - val_recall_2: 0.9318\n",
      "Epoch 8/100\n",
      "2608/2608 [==============================] - 439s 168ms/step - loss: 0.2442 - accuracy: 0.9145 - f1_score: 0.8707 - precision_2: 0.9222 - recall_2: 0.9063 - val_loss: 0.1418 - val_accuracy: 0.9587 - val_f1_score: 0.9586 - val_precision_2: 0.9595 - val_recall_2: 0.9556\n",
      "Epoch 9/100\n",
      "2608/2608 [==============================] - 428s 164ms/step - loss: 0.2340 - accuracy: 0.9171 - f1_score: 0.8753 - precision_2: 0.9248 - recall_2: 0.9098 - val_loss: 0.1171 - val_accuracy: 0.9659 - val_f1_score: 0.9659 - val_precision_2: 0.9678 - val_recall_2: 0.9638\n",
      "Epoch 10/100\n",
      "2608/2608 [==============================] - 434s 166ms/step - loss: 0.2246 - accuracy: 0.9210 - f1_score: 0.8815 - precision_2: 0.9282 - recall_2: 0.9138 - val_loss: 0.1566 - val_accuracy: 0.9463 - val_f1_score: 0.9462 - val_precision_2: 0.9472 - val_recall_2: 0.9442\n",
      "Epoch 11/100\n",
      "2608/2608 [==============================] - 425s 163ms/step - loss: 0.2155 - accuracy: 0.9238 - f1_score: 0.8855 - precision_2: 0.9305 - recall_2: 0.9174 - val_loss: 0.1233 - val_accuracy: 0.9628 - val_f1_score: 0.9628 - val_precision_2: 0.9647 - val_recall_2: 0.9607\n",
      "Epoch 12/100\n",
      "2608/2608 [==============================] - 437s 168ms/step - loss: 0.2079 - accuracy: 0.9271 - f1_score: 0.8907 - precision_2: 0.9336 - recall_2: 0.9216 - val_loss: 0.1827 - val_accuracy: 0.9452 - val_f1_score: 0.9451 - val_precision_2: 0.9481 - val_recall_2: 0.9442\n",
      "Epoch 13/100\n",
      "2608/2608 [==============================] - 440s 169ms/step - loss: 0.1984 - accuracy: 0.9299 - f1_score: 0.8952 - precision_2: 0.9360 - recall_2: 0.9247 - val_loss: 0.2084 - val_accuracy: 0.9215 - val_f1_score: 0.9216 - val_precision_2: 0.9243 - val_recall_2: 0.9205\n",
      "Epoch 14/100\n",
      "2608/2608 [==============================] - 443s 170ms/step - loss: 0.1905 - accuracy: 0.9332 - f1_score: 0.8998 - precision_2: 0.9389 - recall_2: 0.9283 - val_loss: 0.1916 - val_accuracy: 0.9215 - val_f1_score: 0.9213 - val_precision_2: 0.9262 - val_recall_2: 0.9205\n",
      "Epoch 15/100\n",
      "2608/2608 [==============================] - 442s 169ms/step - loss: 0.1846 - accuracy: 0.9352 - f1_score: 0.9029 - precision_2: 0.9407 - recall_2: 0.9307 - val_loss: 0.1224 - val_accuracy: 0.9566 - val_f1_score: 0.9565 - val_precision_2: 0.9586 - val_recall_2: 0.9566\n",
      "Epoch 16/100\n",
      "2608/2608 [==============================] - 451s 173ms/step - loss: 0.1773 - accuracy: 0.9379 - f1_score: 0.9072 - precision_2: 0.9428 - recall_2: 0.9334 - val_loss: 0.1263 - val_accuracy: 0.9597 - val_f1_score: 0.9596 - val_precision_2: 0.9617 - val_recall_2: 0.9587\n",
      "Epoch 17/100\n",
      "2608/2608 [==============================] - 446s 171ms/step - loss: 0.1721 - accuracy: 0.9393 - f1_score: 0.9093 - precision_2: 0.9439 - recall_2: 0.9348 - val_loss: 0.1064 - val_accuracy: 0.9700 - val_f1_score: 0.9700 - val_precision_2: 0.9719 - val_recall_2: 0.9638\n",
      "Epoch 18/100\n",
      "2608/2608 [==============================] - 437s 167ms/step - loss: 0.1685 - accuracy: 0.9402 - f1_score: 0.9106 - precision_2: 0.9447 - recall_2: 0.9361 - val_loss: 0.1188 - val_accuracy: 0.9618 - val_f1_score: 0.9618 - val_precision_2: 0.9618 - val_recall_2: 0.9618\n",
      "Epoch 19/100\n",
      "2608/2608 [==============================] - 433s 166ms/step - loss: 0.1601 - accuracy: 0.9432 - f1_score: 0.9153 - precision_2: 0.9469 - recall_2: 0.9396 - val_loss: 0.1234 - val_accuracy: 0.9597 - val_f1_score: 0.9597 - val_precision_2: 0.9626 - val_recall_2: 0.9576\n"
     ]
    }
   ],
   "source": [
    "earlyStopCallback = tf.keras.callbacks.EarlyStopping(monitor='val_accuracy', patience=10, mode='max', min_delta=0.01, restore_best_weights = True)\n",
    "model_checkpoint_callback = tf.keras.callbacks.ModelCheckpoint(filepath='data/vgg19_model.h5',\n",
    "                                                                   save_weights_only=True, monitor='accuracy',\n",
    "                                                                   mode='max', save_best_only=True)\n",
    "history_vgg = model_vgg.fit(\n",
    "    train_generator,\n",
    "    steps_per_epoch = (83484/32),\n",
    "    epochs = 100,\n",
    "    validation_data = test_generator,\n",
    "    validation_steps = (968/32),\n",
    "    workers=4,\n",
    "    max_queue_size=100,\n",
    "    verbose = True,\n",
    "    callbacks=[model_checkpoint_callback, earlyStopCallback])"
   ]
  },
  {
   "cell_type": "code",
   "execution_count": 108,
   "metadata": {
    "pycharm": {
     "name": "#%%\n"
    }
   },
   "outputs": [
    {
     "data": {
      "text/plain": "<AxesSubplot:title={'center':'Accuracy'}>"
     },
     "execution_count": 108,
     "metadata": {},
     "output_type": "execute_result"
    },
    {
     "data": {
      "text/plain": "<Figure size 432x288 with 1 Axes>",
      "image/png": "[encoded data removed]"
     },
     "metadata": {
      "needs_background": "light"
     },
     "output_type": "display_data"
    },
    {
     "data": {
      "text/plain": "<Figure size 432x288 with 1 Axes>",
      "image/png": "[encoded data removed]"
     },
     "metadata": {
      "needs_background": "light"
     },
     "output_type": "display_data"
    }
   ],
   "source": [
    "import pandas as pd\n",
    "\n",
    "history_df = pd.DataFrame(history_vgg.history)\n",
    "history_df.loc[:, ['loss', 'val_loss']].plot(title=\"Cross-entropy\")\n",
    "history_df.loc[:, ['accuracy', 'val_accuracy']].plot(title=\"Accuracy\")"
   ]
  },
  {
   "cell_type": "code",
   "execution_count": 17,
   "metadata": {
    "pycharm": {
     "name": "#%%\n"
    }
   },
   "outputs": [],
   "source": [
    "model_vgg.load_weights('data/vgg19_model.h5')"
   ]
  },
  {
   "cell_type": "code",
   "execution_count": 18,
   "metadata": {
    "pycharm": {
     "name": "#%%\n"
    }
   },
   "outputs": [
    {
     "name": "stderr",
     "output_type": "stream",
     "text": [
      "2022-05-11 19:24:47.698016: W tensorflow/core/platform/profile_utils/cpu_utils.cc:128] Failed to get CPU frequency: 0 Hz\n",
      "2022-05-11 19:24:47.833473: I tensorflow/core/grappler/optimizers/custom_graph_optimizer_registry.cc:113] Plugin optimizer for device_type GPU is enabled.\n"
     ]
    },
    {
     "name": "stdout",
     "output_type": "stream",
     "text": [
      "(968, 4)\n"
     ]
    }
   ],
   "source": [
    "test_steps_per_epoch = np.math.ceil(test_generator.samples / test_generator.batch_size)\n",
    "\n",
    "predictions = model_vgg.predict(test_generator)\n",
    "print(predictions.shape)\n",
    "\n",
    "predicted_classes = np.argmax(predictions, axis = 1)"
   ]
  },
  {
   "cell_type": "code",
   "execution_count": 19,
   "metadata": {
    "pycharm": {
     "name": "#%%\n"
    }
   },
   "outputs": [],
   "source": [
    "true_classes = test_generator.classes\n",
    "class_labels = list(test_generator.class_indices.keys())"
   ]
  },
  {
   "cell_type": "code",
   "execution_count": 20,
   "metadata": {
    "pycharm": {
     "name": "#%%\n"
    }
   },
   "outputs": [
    {
     "name": "stdout",
     "output_type": "stream",
     "text": [
      "              precision    recall  f1-score   support\n",
      "\n",
      "         CNV       0.93      0.99      0.96       242\n",
      "         DME       0.94      0.96      0.95       242\n",
      "      DRUSEN       1.00      0.91      0.95       242\n",
      "      NORMAL       0.98      0.97      0.98       242\n",
      "\n",
      "    accuracy                           0.96       968\n",
      "   macro avg       0.96      0.96      0.96       968\n",
      "weighted avg       0.96      0.96      0.96       968\n",
      "\n"
     ]
    }
   ],
   "source": [
    "report = sklearn.metrics.classification_report(true_classes, predicted_classes, target_names = class_labels)\n",
    "print(report)"
   ]
  },
  {
   "cell_type": "code",
   "execution_count": 21,
   "metadata": {
    "pycharm": {
     "name": "#%%\n"
    }
   },
   "outputs": [
    {
     "data": {
      "text/plain": "<Figure size 576x576 with 2 Axes>",
      "image/png": "[encoded data removed]"
     },
     "metadata": {
      "needs_background": "light"
     },
     "output_type": "display_data"
    }
   ],
   "source": [
    "cm = sklearn.metrics.confusion_matrix(true_classes, predicted_classes)\n",
    "plt.figure(figsize=(8,8))\n",
    "classes = train_generator.class_indices.keys()\n",
    "sns.heatmap(cm, fmt='.0f', annot=True, linewidths=0.2, linecolor='purple', xticklabels=classes, yticklabels=classes)\n",
    "plt.show()"
   ]
  },
  {
   "cell_type": "code",
   "execution_count": 65,
   "outputs": [
    {
     "name": "stdout",
     "output_type": "stream",
     "text": [
      "INFO:tensorflow:Assets written to: /var/folders/gd/k530dpdn0b7bp0679ks43_th0000gn/T/tmpglsrriu0/assets\n"
     ]
    },
    {
     "name": "stderr",
     "output_type": "stream",
     "text": [
      "INFO:tensorflow:Assets written to: /var/folders/gd/k530dpdn0b7bp0679ks43_th0000gn/T/tmpglsrriu0/assets\n",
      "2022-05-11 22:02:50.233790: W tensorflow/compiler/mlir/lite/python/tf_tfl_flatbuffer_helpers.cc:357] Ignored output_format.\n",
      "2022-05-11 22:02:50.233813: W tensorflow/compiler/mlir/lite/python/tf_tfl_flatbuffer_helpers.cc:360] Ignored drop_control_dependency.\n",
      "WARNING:absl:Buffer deduplication procedure will be skipped when flatbuffer library is not properly loaded\n",
      "2022-05-11 22:02:50.233932: I tensorflow/cc/saved_model/reader.cc:43] Reading SavedModel from: /var/folders/gd/k530dpdn0b7bp0679ks43_th0000gn/T/tmpglsrriu0\n",
      "2022-05-11 22:02:50.236827: I tensorflow/cc/saved_model/reader.cc:78] Reading meta graph with tags { serve }\n",
      "2022-05-11 22:02:50.236841: I tensorflow/cc/saved_model/reader.cc:119] Reading SavedModel debug info (if present) from: /var/folders/gd/k530dpdn0b7bp0679ks43_th0000gn/T/tmpglsrriu0\n",
      "2022-05-11 22:02:50.248177: I tensorflow/cc/saved_model/loader.cc:228] Restoring SavedModel bundle.\n",
      "2022-05-11 22:02:50.381070: I tensorflow/cc/saved_model/loader.cc:212] Running initialization op on SavedModel bundle at path: /var/folders/gd/k530dpdn0b7bp0679ks43_th0000gn/T/tmpglsrriu0\n",
      "2022-05-11 22:02:50.400276: I tensorflow/cc/saved_model/loader.cc:301] SavedModel load for tags { serve }; Status: success: OK. Took 166347 microseconds.\n"
     ]
    }
   ],
   "source": [
    "converter = tf.lite.TFLiteConverter.from_keras_model(model_vgg)\n",
    "tflite_model = converter.convert()"
   ],
   "metadata": {
    "collapsed": false,
    "pycharm": {
     "name": "#%%\n"
    }
   }
  },
  {
   "cell_type": "code",
   "execution_count": 66,
   "outputs": [],
   "source": [
    "tflite_model_save_path = os.path.join('models/', \"oct_converted_model.tflite\")\n",
    "with open(tflite_model_save_path, \"wb\") as f:\n",
    "    f.write(tflite_model)"
   ],
   "metadata": {
    "collapsed": false,
    "pycharm": {
     "name": "#%%\n"
    }
   }
  },
  {
   "cell_type": "code",
   "execution_count": 67,
   "outputs": [
    {
     "name": "stdout",
     "output_type": "stream",
     "text": [
      "0\n",
      "74\n"
     ]
    }
   ],
   "source": [
    "tflite_model_file = os.path.join('models/', 'oct_converted_model.tflite')\n",
    "with open(tflite_model_file, 'rb') as fid:\n",
    "    tflite_model = fid.read()\n",
    "\n",
    "interpreter = tf.lite.Interpreter(model_content=tflite_model)\n",
    "interpreter.allocate_tensors()\n",
    "\n",
    "input_index = interpreter.get_input_details()[0][\"index\"]\n",
    "output_index = interpreter.get_output_details()[0][\"index\"]\n",
    "\n",
    "print(input_index)\n",
    "print(output_index)"
   ],
   "metadata": {
    "collapsed": false,
    "pycharm": {
     "name": "#%%\n"
    }
   }
  },
  {
   "cell_type": "code",
   "execution_count": 185,
   "outputs": [],
   "source": [
    "def run_tflite_model(tflite_file, test_image):\n",
    "\n",
    "    interpreter = tf.lite.Interpreter(model_path='models/oct_converted_model.tflite')\n",
    "    interpreter.allocate_tensors()\n",
    "    print(interpreter.get_input_details())\n",
    "    input_details = interpreter.get_input_details()[0][\"index\"]\n",
    "    output_details = interpreter.get_output_details()[0]\n",
    "\n",
    "    interpreter.set_tensor(input_details, test_image)\n",
    "    interpreter.invoke()\n",
    "    output = interpreter.get_tensor(output_details[\"index\"])[0]\n",
    "\n",
    "    prediction = output.argmax()\n",
    "\n",
    "    return prediction"
   ],
   "metadata": {
    "collapsed": false,
    "pycharm": {
     "name": "#%%\n"
    }
   }
  },
  {
   "cell_type": "code",
   "execution_count": 186,
   "outputs": [
    {
     "name": "stdout",
     "output_type": "stream",
     "text": [
      "(496, 512, 3)\n",
      "(1, 496, 512, 3)\n",
      "(1, 150, 150, 3)\n",
      "[{'name': 'serving_default_vgg19_input:0', 'index': 0, 'shape': array([  1, 150, 150,   3], dtype=int32), 'shape_signature': array([ -1, 150, 150,   3], dtype=int32), 'dtype': <class 'numpy.float32'>, 'quantization': (0.0, 0), 'quantization_parameters': {'scales': array([], dtype=float32), 'zero_points': array([], dtype=int32), 'quantized_dimension': 0}, 'sparsity_parameters': {}}]\n",
      "2\n"
     ]
    }
   ],
   "source": [
    "import matplotlib.image as mpimg\n",
    "\n",
    "converted_model = \"models/oct_converted_model\"\n",
    "bad_image_path = \"data/OCT2017 /val/DRUSEN/DRUSEN-9800172-2.jpeg\"\n",
    "image = tf.io.read_file(r\"data/OCT2017 /val/DRUSEN/DRUSEN-9800172-2.jpeg\")\n",
    "image = tf.io.decode_image(image, dtype=tf.float32, channels=3)\n",
    "print(image.shape)\n",
    "converted = image[tf.newaxis, ...]\n",
    "print(converted.shape)\n",
    "resized = tf.image.resize(converted, [150, 150])\n",
    "print(resized.shape)\n",
    "prediction = run_tflite_model(converted_model, resized)\n",
    "print(prediction)"
   ],
   "metadata": {
    "collapsed": false,
    "pycharm": {
     "name": "#%%\n"
    }
   }
  }
 ],
 "metadata": {
  "kernelspec": {
   "display_name": "Python 3 (ipykernel)",
   "language": "python",
   "name": "python3"
  },
  "language_info": {
   "codemirror_mode": {
    "name": "ipython",
    "version": 3
   },
   "file_extension": ".py",
   "mimetype": "text/x-python",
   "name": "python",
   "nbconvert_exporter": "python",
   "pygments_lexer": "ipython3",
   "version": "3.8.13"
  }
 },
 "nbformat": 4,
 "nbformat_minor": 1
}